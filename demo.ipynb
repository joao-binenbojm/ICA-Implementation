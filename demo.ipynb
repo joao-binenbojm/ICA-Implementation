{
 "cells": [
  {
   "cell_type": "markdown",
   "metadata": {},
   "source": [
    "# FastICA Example Application\n",
    "\n",
    "This notebook is used to test out the the FastICA implementation in the ica.py file, based on the article \"Independent component analysis: algorithms and applications\" (Hyvarinen and Oja, 2000)."
   ]
  },
  {
   "cell_type": "code",
   "execution_count": null,
   "metadata": {},
   "outputs": [],
   "source": [
    "from ica import FastICA\n",
    "import numpy as np\n",
    "import matplotlib.pyplot as plt\n",
    "from numpy.matlib import repmat\n",
    "from scipy.signal import sawtooth\n",
    "from tqdm.notebook import tqdm"
   ]
  },
  {
   "cell_type": "code",
   "execution_count": null,
   "metadata": {},
   "outputs": [],
   "source": [
    "# Dummy example set-up\n",
    "n_samples = int(1e3)\n",
    "S = np.array([np.random.rand(n_samples), np.random.rand(n_samples)])\n",
    "x = np.linspace(0, n_samples-1, n_samples)\n",
    "S = np.array([np.sin(x), sawtooth(x * 1.9)])\n",
    "W = np.array([[1, 2], [2, 1]]) # mixing matrix\n",
    "A = np.linalg.inv(W)\n",
    "X = A @ S # getting our linear mixtures\n",
    "n_i = 2 # two independent components\n",
    "model = FastICA(n_i, X)\n",
    "model.optimize()"
   ]
  },
  {
   "cell_type": "code",
   "execution_count": null,
   "metadata": {},
   "outputs": [],
   "source": [
    "# Computing the estimation error\n",
    "W_est = model.get_unwhitened_unmixer()\n",
    "print(\"True unmixing matrix: \\n\", W)\n",
    "print(\"\\n Estimated unmixing matrix: \\n\", W_est)\n",
    "\n",
    "# Plotting Results]\n",
    "S_est = model.separate_sources(X)\n",
    "s_mean_est = repmat((W_est @ model.avg.reshape(-1, 1)), 1, X.shape[1])\n",
    "S = np.divide(S - s_mean_est, S.std(axis=1, keepdims=True))\n",
    "x = np.linspace(start=0, stop=X.shape[1] - 1, num=n_samples)\n",
    "\n",
    "fig = plt.figure()\n",
    "plt.plot(x[:100], S[0, :100], color='red')\n",
    "plt.title('First Independent Component')\n",
    "plt.show()\n",
    "\n",
    "fig2 = plt.figure()\n",
    "plt.plot(x[:100], S_est[0, :100])\n",
    "plt.title('First Independent Component (Est.)')\n",
    "plt.show()\n",
    "\n",
    "fig3 = plt.figure()\n",
    "plt.plot(x[:100], S[1, :100], color='red')\n",
    "plt.title('Second Independent Component')\n",
    "plt.show()\n",
    "\n",
    "fig4 = plt.figure()\n",
    "plt.plot(x[:100], S_est[1, :100])\n",
    "plt.title('Second Independent Component (Est.)')\n",
    "plt.show()"
   ]
  },
  {
   "cell_type": "markdown",
   "metadata": {},
   "source": [
    "# Visualizing the effect of Gaussianity on ICA estimates\n",
    "Theoretically, as ICA aims to maximise Gaussianity, the more Gaussian the mixtures are, the worse the performance of the estimator will be. Thus, given the CLT, the estimation error should go up and we include more and more uniform r.v.'s in our mixtures. \n",
    "\n",
    "The code below tries to split mixtures of uniform distributions, and computes the expected estimation error in each case."
   ]
  },
  {
   "cell_type": "code",
   "execution_count": null,
   "metadata": {},
   "outputs": [],
   "source": [
    "# Cell containing useful functions to be used\n",
    "def MSE(x1, x2):\n",
    "    \"\"\" Computes MSE between two numpy arrays.\"\"\"\n",
    "    return np.mean(np.square(x1 - x2))\n",
    "\n",
    "def estimation_error(S, S_est):\n",
    "    \"\"\" Computes estimation error based on the real sources and estimated ICs.\n",
    "    This function computes the error between each real source and every estimate and\n",
    "    only includes the lowest error, as ICA does not find ICs in a given order.\n",
    "    Args:\n",
    "        S (ndarray): Matrix containing all observations of the real input sources\n",
    "        S_est (ndarray): Matrix containing all observations of the estimated input sources\n",
    "    Returns:\n",
    "        float: estimation error (MSE) between real sources and estimated sources. \n",
    "    \"\"\"\n",
    "    errors = [] # the MSE for each estimated IC\n",
    "    for i in range(S.shape[0]): # for each ICA\n",
    "        these_errors = [MSE(S[i, :], S_est[j, :]) for j in range(S_est.shape[0])]\n",
    "        errors.append(min(these_errors)) # only keep minimum\n",
    "        S_est = np.delete(S_est, np.argmin(these_errors), axis=0)\n",
    "    return np.mean(errors)"
   ]
  },
  {
   "cell_type": "code",
   "execution_count": null,
   "metadata": {},
   "outputs": [],
   "source": [
    "# Setting up (n - 1) different cases with n sources\n",
    "n_sources = 35\n",
    "n_samples = int(1e3)\n",
    "S_total = [np.random.rand(n_samples) for i in range(n_sources)] # contains all possible sources\n",
    "W_total = [np.random.rand(i,i)*9 + 1 for i in range(2, n_sources + 1)] # contains all unmixing matrices\n",
    "# Obtain linear mixtures and optimize models\n",
    "X_total = []\n",
    "errors = [] # error for ICAs with different number of ICs\n",
    "for i in tqdm(range(2, n_sources + 1)):\n",
    "    # Setting up data\n",
    "    S = np.array(S_total)[:i, :]\n",
    "    W = W_total[i - 2]\n",
    "    A = np.linalg.inv(W)\n",
    "    X = A @ S\n",
    "    X_total.append(X)\n",
    "    # Optimizing\n",
    "    model = FastICA(i, X)\n",
    "    model.optimize()\n",
    "    S_est = model.separate_sources(X)\n",
    "    err = estimation_error(np.divide(S - S.mean(axis=1, keepdims=True), S.std(axis=1, keepdims=True)), S_est)\n",
    "    errors.append(err)"
   ]
  },
  {
   "cell_type": "code",
   "execution_count": null,
   "metadata": {},
   "outputs": [],
   "source": [
    "# Plotting results\n",
    "fig = plt.figure()\n",
    "plt.plot(range(2, n_sources + 1), errors)\n",
    "plt.xlabel('Number of ICs')\n",
    "plt.ylabel('Estimation Error')\n",
    "plt.title('Estimation Error vs Gaussianity of sources')\n",
    "plt.show()"
   ]
  }
 ],
 "metadata": {
  "interpreter": {
   "hash": "12a2e9c82f8af6e9b80f0cfba06d82db2a3727acfcfdc5fded3b2e5dd1d08578"
  },
  "kernelspec": {
   "display_name": "Python 3.8.8 64-bit ('base': conda)",
   "language": "python",
   "name": "python3"
  },
  "language_info": {
   "codemirror_mode": {
    "name": "ipython",
    "version": 3
   },
   "file_extension": ".py",
   "mimetype": "text/x-python",
   "name": "python",
   "nbconvert_exporter": "python",
   "pygments_lexer": "ipython3",
   "version": "3.8.8"
  },
  "orig_nbformat": 4
 },
 "nbformat": 4,
 "nbformat_minor": 2
}
